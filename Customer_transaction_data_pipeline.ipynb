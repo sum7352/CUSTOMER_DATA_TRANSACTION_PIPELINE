{
 "cells": [
  {
   "cell_type": "code",
   "execution_count": 1,
   "id": "8a26c5ef-bba7-4f7c-94c3-f86e182a5c02",
   "metadata": {},
   "outputs": [
    {
     "name": "stderr",
     "output_type": "stream",
     "text": [
      "25/02/25 15:09:00 WARN Utils: Your hostname, jayakrishs-MacBook-Pro.local resolves to a loopback address: 127.0.0.1; using 192.168.1.119 instead (on interface en0)\n",
      "25/02/25 15:09:00 WARN Utils: Set SPARK_LOCAL_IP if you need to bind to another address\n",
      "25/02/25 15:09:01 WARN NativeCodeLoader: Unable to load native-hadoop library for your platform... using builtin-java classes where applicable\n",
      "Setting default log level to \"WARN\".\n",
      "To adjust logging level use sc.setLogLevel(newLevel). For SparkR, use setLogLevel(newLevel).\n"
     ]
    }
   ],
   "source": [
    "from pyspark.sql import SparkSession\n",
    "\n",
    "spark = SparkSession.builder \\\n",
    "    .appName(\"PySparkPostgreSQL\") \\\n",
    "    .config(\"spark.jars\", \"/Users/jayakrish/jdbc/postgresql-42.7.5.jar\") \\\n",
    "    .getOrCreate()\n"
   ]
  },
  {
   "cell_type": "code",
   "execution_count": 2,
   "id": "a72bc8b2-1f64-491b-83a2-e95fc8938f18",
   "metadata": {},
   "outputs": [
    {
     "name": "stdout",
     "output_type": "stream",
     "text": [
      "+-----------+-------------+-----------------+-------+\n",
      "|customer_id|         name|            email|country|\n",
      "+-----------+-------------+-----------------+-------+\n",
      "|          1|Alice Johnson|alice@example.com|    USA|\n",
      "|          2|    Bob Smith|  bob@example.com| Canada|\n",
      "+-----------+-------------+-----------------+-------+\n",
      "\n",
      "+--------------+-----------+------+-------------------+\n",
      "|transaction_id|customer_id|amount|   transaction_date|\n",
      "+--------------+-----------+------+-------------------+\n",
      "|             1|          1|200.50|2024-02-20 12:30:00|\n",
      "|             2|          2|450.00|2024-02-21 15:45:00|\n",
      "+--------------+-----------+------+-------------------+\n",
      "\n"
     ]
    }
   ],
   "source": [
    "db_properties = {\n",
    "    \"user\": \"postgres\",\n",
    "    \"password\": \"pgroot\",\n",
    "    \"driver\": \"org.postgresql.Driver\"\n",
    "}\n",
    "\n",
    "customers_df = spark.read \\\n",
    "    .format(\"jdbc\") \\\n",
    "    .option(\"url\", \"jdbc:postgresql://localhost:5432/customer_db\") \\\n",
    "    .option(\"dbtable\", \"customers\") \\\n",
    "    .options(**db_properties) \\\n",
    "    .load()\n",
    "\n",
    "transactions_df = spark.read \\\n",
    "    .format(\"jdbc\") \\\n",
    "    .option(\"url\", \"jdbc:postgresql://localhost:5432/customer_db\") \\\n",
    "    .option(\"dbtable\", \"transactions\") \\\n",
    "    .options(**db_properties) \\\n",
    "    .load()\n",
    "\n",
    "customers_df.show()\n",
    "transactions_df.show()\n"
   ]
  },
  {
   "cell_type": "code",
   "execution_count": 3,
   "id": "bbd2b80f-32a6-4532-9a9c-5283aeb4cdb7",
   "metadata": {},
   "outputs": [
    {
     "name": "stdout",
     "output_type": "stream",
     "text": [
      "+-----------+-------------+-----------------+-------+--------------+------+-------------------+\n",
      "|customer_id|         name|            email|country|transaction_id|amount|   transaction_date|\n",
      "+-----------+-------------+-----------------+-------+--------------+------+-------------------+\n",
      "|          1|Alice Johnson|alice@example.com|    USA|             1|200.50|2024-02-20 12:30:00|\n",
      "|          2|    Bob Smith|  bob@example.com| Canada|             2|450.00|2024-02-21 15:45:00|\n",
      "+-----------+-------------+-----------------+-------+--------------+------+-------------------+\n",
      "\n"
     ]
    }
   ],
   "source": [
    "joined_df = customers_df.join(transactions_df, \"customer_id\", \"inner\")\n",
    "joined_df.show()\n"
   ]
  },
  {
   "cell_type": "code",
   "execution_count": 4,
   "id": "a2fad0a3-adf5-432a-9ddf-4f9027199dda",
   "metadata": {},
   "outputs": [
    {
     "name": "stdout",
     "output_type": "stream",
     "text": [
      "+-----------+-----------+\n",
      "|customer_id|total_spent|\n",
      "+-----------+-----------+\n",
      "|          1|     200.50|\n",
      "|          2|     450.00|\n",
      "+-----------+-----------+\n",
      "\n"
     ]
    }
   ],
   "source": [
    "from pyspark.sql.functions import sum\n",
    "\n",
    "spending_df = joined_df.groupBy(\"customer_id\").agg(sum(\"amount\").alias(\"total_spent\"))\n",
    "spending_df.show()\n"
   ]
  },
  {
   "cell_type": "code",
   "execution_count": 5,
   "id": "ef2efa28-b82b-49b2-99a3-3b6ab7ed4805",
   "metadata": {},
   "outputs": [],
   "source": [
    "spending_df.write \\\n",
    "    .format(\"jdbc\") \\\n",
    "    .option(\"url\", \"jdbc:postgresql://localhost:5432/customer_db\") \\\n",
    "    .option(\"dbtable\", \"customer_spending\") \\\n",
    "    .options(**db_properties) \\\n",
    "    .mode(\"overwrite\") \\\n",
    "    .save()\n"
   ]
  },
  {
   "cell_type": "code",
   "execution_count": null,
   "id": "fc6f9569-c380-4958-a2fe-4687e80e6a93",
   "metadata": {},
   "outputs": [],
   "source": []
  }
 ],
 "metadata": {
  "kernelspec": {
   "display_name": "Python 3 (ipykernel)",
   "language": "python",
   "name": "python3"
  },
  "language_info": {
   "codemirror_mode": {
    "name": "ipython",
    "version": 3
   },
   "file_extension": ".py",
   "mimetype": "text/x-python",
   "name": "python",
   "nbconvert_exporter": "python",
   "pygments_lexer": "ipython3",
   "version": "3.9.21"
  }
 },
 "nbformat": 4,
 "nbformat_minor": 5
}
